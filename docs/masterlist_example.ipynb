{
 "cells": [
  {
   "cell_type": "markdown",
   "id": "7f05ac0d-3449-4cba-8742-523c7e446f08",
   "metadata": {},
   "source": [
    "Masterlist run example\n",
    "======================\n",
    "\n",
    "``scubes`` package implements a script to run the program from a CSV file\n",
    "with a list of objects, a *Masterlist*. This script is called ``scubesml``\n",
    "\n",
    "*Masterlist* is a csv text file in which one could gather information of a list \n",
    "of objects to create cubes. The file must contain at least 5 columns named with \n",
    "the following header and information:\n",
    "\n",
    "1. ``SNAME``: A nickname for the object \n",
    "2. ``FIELD``: S-PLUS Field (TILE) in which the program will search for the coordinates \n",
    "3. ``RA__deg``: Right-ascencion in degrees \n",
    "4. ``DEC__deg``: Declination in degrees \n",
    "5. ``SIZE__pix``: SIZE of the object in pixels \n",
    "\n",
    "*Masterlist* file content example::\n",
    "\n",
    "    SNAME,FIELD,RA__deg,DEC__deg,SIZE__pix\n",
    "    S00001,SPLUS-s24s34,52.08196,-31.06817,53.65902\n",
    "    S00002,SPLUS-s24s35,52.87771,-30.21333,25.898617\n",
    "    (...)\n",
    "\n",
    "A *Masterlist* could contain more columns and, at the end of the run, the script \n",
    "will update the primary header of the output FITS file with all information inside\n",
    "the *Masterlist* for the chosen object."
   ]
  },
  {
   "cell_type": "code",
   "execution_count": 1,
   "id": "536e73f9-2172-436c-b558-bffa32fa4c5a",
   "metadata": {},
   "outputs": [
    {
     "name": "stdout",
     "output_type": "stream",
     "text": [
      "usage: scubesml [-h] [-r] [-c] [-f] [-b BANDS [BANDS ...]]\n",
      "                [-S SIZE_MULTIPLICATOR] [-w WORK_DIR] [-o OUTPUT_DIR] [-v]\n",
      "                [-D] [-Z ZPCORR_DIR] [-z ZP_TABLE] [-U USERNAME] [-P PASSWORD]\n",
      "                [-R] [--version]\n",
      "                GALAXY_SNAME MASTERLIST\n",
      "\n",
      "┌─┐   ┌─┐┬ ┬┌┐ ┌─┐┌─┐  | scubesml entry-point script:\n",
      "└─┐───│  │ │├┴┐├┤ └─┐  | Create S-PLUS galaxies data cubes, a.k.a. S-CUBES\n",
      "└─┘   └─┘└─┘└─┘└─┘└─┘  | using the masterlist information as input.\n",
      "---------------------- + \n",
      "\n",
      "   Eduardo Alberto Duarte Lacerda <dhubax@gmail.com>, Fabio Herpich <fabiorafaelh@gmail.com>\n",
      "\n",
      "positional arguments:\n",
      "  GALAXY_SNAME                Galaxy's masterlist nickname\n",
      "  MASTERLIST                  Path to masterlist file\n",
      "\n",
      "options:\n",
      "  -h, --help                  show this help message and exit\n",
      "  -r, --redo                  Enable redo mode to overwrite final cubes.\n",
      "                              Default value is False\n",
      "  -c, --clean                 Clean intermediate files after processing.\n",
      "                              Default value is False\n",
      "  -f, --force                 Force overwrite of existing files. Default value\n",
      "                              is False\n",
      "  -b BANDS [BANDS ...], --bands BANDS [BANDS ...]\n",
      "                              List of S-PLUS bands (space separated). Default\n",
      "                              value is ['U', 'F378', 'F395', 'F410', 'F430',\n",
      "                              'G', 'F515', 'R', 'F660', 'I', 'F861', 'Z']\n",
      "  -S SIZE_MULTIPLICATOR, --size_multiplicator SIZE_MULTIPLICATOR\n",
      "                              Factor to multiply the SIZE__pix value of the\n",
      "                              masterlist to create the galaxy size. If size is\n",
      "                              a odd number, the program will choose the\n",
      "                              closest even integer. Default value is 10\n",
      "  -w WORK_DIR, --work_dir WORK_DIR\n",
      "                              Working directory. Default value is /storage/hdd\n",
      "                              /backup/dhubax/dev/astro/splus/s-cubes/workdir\n",
      "  -o OUTPUT_DIR, --output_dir OUTPUT_DIR\n",
      "                              Output directory. Default value is /storage/hdd/\n",
      "                              backup/dhubax/dev/astro/splus/s-cubes/workdir\n",
      "  -v, --verbose               Verbosity level.\n",
      "  -D, --debug                 Enable debug mode. Default value is False\n",
      "  -Z ZPCORR_DIR, --zpcorr_dir ZPCORR_DIR\n",
      "                              Zero-point correction directory. Default value\n",
      "                              is /home/lacerda/.local/lib/python3.10/site-\n",
      "                              packages/scubes/data/zpcorr_iDR4\n",
      "  -z ZP_TABLE, --zp_table ZP_TABLE\n",
      "                              Zero-point table. Default value is\n",
      "                              /home/lacerda/.local/lib/python3.10/site-\n",
      "                              packages/scubes/data/iDR4_zero-points.csv\n",
      "  -U USERNAME, --username USERNAME\n",
      "                              S-PLUS Cloud username.\n",
      "  -P PASSWORD, --password PASSWORD\n",
      "                              S-PLUS Cloud password.\n",
      "  -R, --remove_downloaded_data\n",
      "                              Remove the downloaded data from splusdata at the\n",
      "                              end of the run. Default value is False\n",
      "  --version                   show program's version number and exit\n"
     ]
    }
   ],
   "source": [
    "!scubesml --help"
   ]
  },
  {
   "cell_type": "markdown",
   "id": "351d0c5e-050a-4b15-8c1f-25cf0a4101d1",
   "metadata": {},
   "source": [
    "Size of the stamp\n",
    "-----------------\n",
    "\n",
    "For the size calculation, the script will use the value of the column \n",
    "``SIZE__pix`` and also the ``--size_multiplicator`` option. At the \n",
    "end, the final size value will be the next even integer of the multiplication:\n",
    "\n",
    "    size = size_multiplicator x SIZE__pix\n"
   ]
  },
  {
   "cell_type": "code",
   "execution_count": 2,
   "id": "c768f156-c7ed-4d56-8c7a-bbcb502bf702",
   "metadata": {},
   "outputs": [
    {
     "name": "stdout",
     "output_type": "stream",
     "text": [
      "SNAME,FIELD,RA__deg,DEC__deg,TYPE,VELOCITY__kms,REDSHIFT,DISTANCE__Mpc,EBV__mag,SIZE__pix\n",
      "NGC1344,SPLUS-s24s34,52.08196,-31.06817,G,1241.0,0.00414,18.364103654698095,0.0158,53.65902\n",
      "ESO418-G008,SPLUS-s24s35,52.87771,-30.21333,G,1195.0,0.003987,17.683362136194148,0.0134,25.898617\n",
      "ESO418-G009,SPLUS-s24s35,52.98173,-31.33763,G,972.0,0.003242,14.370905842817514,0.0172,31.746374\n",
      "NGC1366,SPLUS-s24s35,53.47367,-31.19411,G,1231.0,0.004106,18.212814064954173,0.0146,15.589648\n",
      "NGC1406,SPLUS-s24s36,54.84708,-31.32142,G,1075.0,0.003585,15.895502593028134,0.0094,53.065895\n",
      "ESO419-G013,SPLUS-s24s39,60.17338,-30.831,G,1490.0,0.00497,22.059776288801466,0.0064,23.614521\n",
      "ESO420-G009,SPLUS-s24s41,62.75269,-31.40743,G,1367.0,0.00456,20.23362042333429,0.0197,35.48054\n",
      "IC1913,SPLUS-s25s32,49.8939,-32.46502,G,1443.0,0.004813,21.360357850834735,0.0138,28.049528\n",
      "IC1919,SPLUS-s25s33,51.50933,-32.89456,G,1323.0,0.004413,19.579153744085982,0.0125,37.4627\n"
     ]
    }
   ],
   "source": [
    "!cat masterlist_example.csv"
   ]
  },
  {
   "cell_type": "markdown",
   "id": "f5c86c16-1e4c-4e44-b688-6d317d0cb64b",
   "metadata": {},
   "source": [
    "The *Masterlist* file ``masterlist_example.csv`` contain 9 objects. \n",
    "To run ``scubes`` for each object, just use ``scubesml`` script as:"
   ]
  },
  {
   "cell_type": "code",
   "execution_count": 3,
   "id": "03bc7ecf-8e41-4fc2-94a8-2584e5d395bd",
   "metadata": {},
   "outputs": [
    {
     "name": "stdout",
     "output_type": "stream",
     "text": [
      "ESO419-G013 @ SPLUS-s24s39 - downloading: 100%|█| 12/12 [00:27<00:00,  2.29s/it]\n",
      "\u001b[0;33mWARNING\u001b[0m: FITSFixedWarning: 'datfix' made the change 'Set DATE-OBS to '2017-09-26' from MJD-OBS'. [astropy.wcs.wcs]\n",
      "\u001b[0;33mWARNING\u001b[0m: FITSFixedWarning: 'datfix' made the change 'Set DATE-OBS to '2017-10-13' from MJD-OBS'. [astropy.wcs.wcs]\n",
      "[2024-05-26T21:34:22.521107] - scubesml: Reading ZPs table: /home/lacerda/.local/lib/python3.10/site-packages/scubes/data/iDR4_zero-points.csv\n",
      "[2024-05-26T21:34:22.524050] - scubesml: Getting ZP corrections for the S-PLUS bands...\n",
      "[2024-05-26T21:34:22.528228] - scubesml: Calibrating stamps...\n",
      "/home/lacerda/.local/lib/python3.10/site-packages/scubes/core.py:523: RuntimeWarning: cdelt will be ignored since cd is present\n",
      "  nw.wcs.cdelt[:2] = w.wcs.cdelt\n",
      "[2024-05-26T21:34:23.287041] - scubesml: Cube successfully created!\n",
      "[2024-05-26T21:34:23.287061] - scubesml: Removing downloaded data\n"
     ]
    }
   ],
   "source": [
    "!scubesml -frR -U YOURUSER -P YOURPASS -w . --size_multiplicator 20 -- ESO419-G013 masterlist_example.csv"
   ]
  },
  {
   "cell_type": "markdown",
   "id": "fd687d3e-194c-48a1-a6ba-1d79d476c63e",
   "metadata": {},
   "source": [
    "Header information\n",
    "------------------\n",
    "\n",
    "At this point, we can see that the *Masterlist* information is stored at the header:"
   ]
  },
  {
   "cell_type": "code",
   "execution_count": 4,
   "id": "755d95cd-5dcb-48c2-80e9-cae48d056e76",
   "metadata": {
    "scrolled": true
   },
   "outputs": [
    {
     "data": {
      "text/plain": [
       "SIMPLE  =                    T / conforms to FITS standard                      \n",
       "BITPIX  =                    8 / array data type                                \n",
       "NAXIS   =                    0 / number of array dimensions                     \n",
       "EXTEND  =                    T                                                  \n",
       "TILE    = 'SPLUS-s24s39'                                                        \n",
       "GALAXY  = 'ESO419-G013'                                                         \n",
       "SIZE    =                  472 / Side of the stamp in pixels                    \n",
       "X0TILE  =             3053.381                                                  \n",
       "Y0TILE  =             5962.645                                                  \n",
       "RA      =             60.17338 / deg                                            \n",
       "DEC     =              -30.831 / deg                                            \n",
       "TYPE    = 'G       '                                                            \n",
       "VELOCITY=               1490.0 / kms                                            \n",
       "REDSHIFT=              0.00497                                                  \n",
       "DISTANCE=   22.059776288801466 / Mpc                                            \n",
       "EBV     =               0.0064 / mag                                            \n",
       "SIZE_ML =            23.614521 / SIZE masterlist                                "
      ]
     },
     "execution_count": 4,
     "metadata": {},
     "output_type": "execute_result"
    }
   ],
   "source": [
    "from scubes.utilities.readscube import read_scube\n",
    "\n",
    "filename = 'ESO419-G013/ESO419-G013_cube.fits'\n",
    "scube = read_scube(filename)\n",
    "scube.primary_header"
   ]
  },
  {
   "cell_type": "markdown",
   "id": "33cd652d-91fa-45e2-bbd2-018aae91187d",
   "metadata": {},
   "source": [
    "Running scubes for the entire list\n",
    "----------------------------------\n",
    "\n",
    "A simple shell script could help to run ``scubes`` for the entire list of objects.\n",
    "We use ``tail`` and ``cut`` shell commands in order to get only the SNAME of the\n",
    "objects from the *Masterlist* file.\n",
    "\n",
    "```bash\n",
    "for SNAME in `tail -n+2 masterlist_example.csv | cut -f1 -d','`\n",
    "do\n",
    "    scubesml -frR -U YOURUSER -P YOURPASS --size_multiplicator 20 -- ${SNAME} masterlist_example.csv\n",
    "done\n",
    "```"
   ]
  }
 ],
 "metadata": {
  "kernelspec": {
   "display_name": "Python 3 (ipykernel)",
   "language": "python",
   "name": "python3"
  },
  "language_info": {
   "codemirror_mode": {
    "name": "ipython",
    "version": 3
   },
   "file_extension": ".py",
   "mimetype": "text/x-python",
   "name": "python",
   "nbconvert_exporter": "python",
   "pygments_lexer": "ipython3",
   "version": "3.10.12"
  }
 },
 "nbformat": 4,
 "nbformat_minor": 5
}
